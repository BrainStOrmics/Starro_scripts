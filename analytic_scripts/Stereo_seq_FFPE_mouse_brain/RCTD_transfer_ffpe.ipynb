{
 "cells": [
  {
   "cell_type": "code",
   "execution_count": 14,
   "id": "3d6d76e4-a9ae-4c61-8db7-420b3900a6df",
   "metadata": {
    "tags": [],
    "vscode": {
     "languageId": "r"
    }
   },
   "outputs": [],
   "source": [
    "library(devtools) \n",
    "library(patchwork)\n",
    "library(remotes)\n",
    "library(Giotto)\n",
    "library(ggplot2)\n",
    "library(scatterpie)\n",
    "library(data.table)\n",
    "library(Seurat)\n",
    "library(Matrix)\n",
    "library(ggpubr)\n",
    "library(gridExtra)\n",
    "library(spacexr)\n",
    "library(reshape2)\n",
    "library(ggsci)\n",
    "library(nnls)\n",
    "library(SeuratData)\n",
    "library(cowplot)\n",
    "library(dplyr)\n",
    "library(RColorBrewer)"
   ]
  },
  {
   "cell_type": "code",
   "execution_count": 2,
   "id": "19202be3-cc8b-4d18-9f3b-a7dd410265ef",
   "metadata": {
    "vscode": {
     "languageId": "r"
    }
   },
   "outputs": [],
   "source": [
    "source(\"code/Reference.R\")\n",
    "source(\"code/SpatialRNA.R\")\n",
    "source(\"code/function.for.RCTD.DWLs.R\")"
   ]
  },
  {
   "cell_type": "code",
   "execution_count": 3,
   "id": "8ddf8457-eff1-40d0-a2e6-7a0ee21166de",
   "metadata": {
    "vscode": {
     "languageId": "r"
    }
   },
   "outputs": [
    {
     "data": {
      "text/plain": [
       "An object of class Seurat \n",
       "98972 features across 15842 samples within 4 assays \n",
       "Active assay: SCT (46726 features, 5000 variable features)\n",
       " 3 other assays present: RNA, pubRefPredictions1Class, pubRefPredictions1TaxonomyGroup\n",
       " 3 dimensional reductions calculated: pca, umap, harmony"
      ]
     },
     "metadata": {},
     "output_type": "display_data"
    }
   ],
   "source": [
    "sc_obj = readRDS(\"sc_obj_subset_ctx_anterior_filter10.rds\")\n",
    "sc_obj"
   ]
  },
  {
   "cell_type": "code",
   "execution_count": 4,
   "id": "7b8d51b7-57d0-4314-85f5-0e6ea430c93b",
   "metadata": {
    "vscode": {
     "languageId": "r"
    }
   },
   "outputs": [],
   "source": [
    "sc_obj = sc_obj[, sc_obj$sampleRegion1 %in% c(\"CTXav\", \"CTXad\")]"
   ]
  },
  {
   "cell_type": "code",
   "execution_count": 5,
   "id": "fe6b9e32-fbbf-407b-9f2d-4b839299e678",
   "metadata": {
    "vscode": {
     "languageId": "r"
    }
   },
   "outputs": [],
   "source": [
    "sc_obj$type = sc_obj$sampleRegion1\n",
    "sc_obj$annotation = sc_obj$annotGroup9"
   ]
  },
  {
   "cell_type": "code",
   "execution_count": 6,
   "id": "a96dfc87-f27b-42cd-b171-66d44ff5b2e8",
   "metadata": {
    "tags": [],
    "vscode": {
     "languageId": "r"
    }
   },
   "outputs": [
    {
     "data": {
      "text/plain": [
       "An object of class Seurat \n",
       "98972 features across 15842 samples within 4 assays \n",
       "Active assay: SCT (46726 features, 5000 variable features)\n",
       " 3 other assays present: RNA, pubRefPredictions1Class, pubRefPredictions1TaxonomyGroup\n",
       " 3 dimensional reductions calculated: pca, umap, harmony"
      ]
     },
     "metadata": {},
     "output_type": "display_data"
    }
   ],
   "source": [
    "sc_obj = sc_obj[, sc_obj$annotation %in% names(table(sc_obj$annotation))[table(sc_obj$annotation) > 10]]\n",
    "sc_obj"
   ]
  },
  {
   "cell_type": "code",
   "execution_count": 7,
   "id": "34f8a711-0647-4b78-b6dd-04dcf375fd86",
   "metadata": {
    "vscode": {
     "languageId": "r"
    }
   },
   "outputs": [
    {
     "data": {
      "text/plain": [
       "\n",
       "            ASC      Car3_N_GLU      CNU_N_GABA             EDC      L23_IT_GLU \n",
       "            924             161             282              83            3082 \n",
       "     L45_IT_GLU       L5_IT_GLU       L5_PT_GLU      L56_NP_GLU       L6_IT_GLU \n",
       "           1871             567             905             190            2169 \n",
       "       L6_N_GLU             MGL              OL             OPC TE_N_GABA_LAMP5 \n",
       "           1892              94             393              46             222 \n",
       "TE_N_GABA_PVALB  TE_N_GABA_RELN  TE_N_GABA_SNCG   TE_N_GABA_SST   TE_N_GABA_VIP \n",
       "            822              49              46             656             163 \n",
       "       TE_N_GLU            VLMC \n",
       "           1027             198 "
      ]
     },
     "metadata": {},
     "output_type": "display_data"
    }
   ],
   "source": [
    "table(sc_obj$annotation)"
   ]
  },
  {
   "cell_type": "code",
   "execution_count": 9,
   "id": "70aaf560-9a88-43cf-bf82-f92477374567",
   "metadata": {
    "vscode": {
     "languageId": "r"
    }
   },
   "outputs": [
    {
     "data": {
      "text/plain": [
       "\n",
       "CTXad CTXav \n",
       " 7754  8088 "
      ]
     },
     "metadata": {},
     "output_type": "display_data"
    }
   ],
   "source": [
    "table(sc_obj$sampleRegion1)"
   ]
  },
  {
   "cell_type": "code",
   "execution_count": 10,
   "id": "05a3c9cc-417e-44bd-96d9-81fd6abddf1f",
   "metadata": {
    "vscode": {
     "languageId": "r"
    }
   },
   "outputs": [],
   "source": [
    "st_obj = readRDS(\"DP84_hailin_areatrans_cortex.rds\")"
   ]
  },
  {
   "cell_type": "code",
   "execution_count": 15,
   "id": "0070bb3b-8bf9-4d0f-a618-428637113a79",
   "metadata": {
    "vscode": {
     "languageId": "r"
    }
   },
   "outputs": [
    {
     "data": {
      "text/plain": [
       "An object of class Seurat \n",
       "8624 features across 7014 samples within 1 assay \n",
       "Active assay: RNA (8624 features, 0 variable features)"
      ]
     },
     "metadata": {},
     "output_type": "display_data"
    },
    {
     "data": {
      "text/plain": [
       "An object of class Seurat \n",
       "8624 features across 5310 samples within 1 assay \n",
       "Active assay: RNA (8624 features, 0 variable features)"
      ]
     },
     "metadata": {},
     "output_type": "display_data"
    }
   ],
   "source": [
    "st_obj_ssdna = st_obj[, st_obj$source %in% c(\"ssDNA_specific\")]\n",
    "st_obj_common = st_obj[, st_obj$source %in% c(\"common\")]\n",
    "st_obj_ssdna\n",
    "st_obj_common"
   ]
  },
  {
   "cell_type": "code",
   "execution_count": 16,
   "id": "75053358-a706-414f-9e96-85a4cbc276df",
   "metadata": {
    "tags": [],
    "vscode": {
     "languageId": "r"
    }
   },
   "outputs": [
    {
     "name": "stderr",
     "output_type": "stream",
     "text": [
      "Begin: process_cell_type_info\n",
      "\n",
      "process_cell_type_info: number of cells in reference: 15842\n",
      "\n",
      "process_cell_type_info: number of genes in reference: 52198\n",
      "\n"
     ]
    },
    {
     "name": "stdout",
     "output_type": "stream",
     "text": [
      "\n",
      "            ASC      Car3_N_GLU      CNU_N_GABA             EDC      L23_IT_GLU \n",
      "            924             161             282              83            3082 \n",
      "     L45_IT_GLU       L5_IT_GLU       L5_PT_GLU      L56_NP_GLU       L6_IT_GLU \n",
      "           1871             567             905             190            2169 \n",
      "       L6_N_GLU             MGL              OL             OPC TE_N_GABA_LAMP5 \n",
      "           1892              94             393              46             222 \n",
      "TE_N_GABA_PVALB  TE_N_GABA_RELN  TE_N_GABA_SNCG   TE_N_GABA_SST   TE_N_GABA_VIP \n",
      "            822              49              46             656             163 \n",
      "       TE_N_GLU            VLMC \n",
      "           1027             198 \n"
     ]
    },
    {
     "name": "stderr",
     "output_type": "stream",
     "text": [
      "Warning message in asMethod(object):\n",
      "“sparse->dense coercion: allocating vector of size 1.2 GiB”\n",
      "End: process_cell_type_info\n",
      "\n",
      "create.RCTD: getting regression differentially expressed genes: \n",
      "\n",
      "get_de_genes: ASC found DE genes: 258\n",
      "\n",
      "get_de_genes: Car3_N_GLU found DE genes: 150\n",
      "\n",
      "get_de_genes: CNU_N_GABA found DE genes: 223\n",
      "\n",
      "get_de_genes: EDC found DE genes: 391\n",
      "\n",
      "get_de_genes: L23_IT_GLU found DE genes: 92\n",
      "\n",
      "get_de_genes: L45_IT_GLU found DE genes: 68\n",
      "\n",
      "get_de_genes: L5_IT_GLU found DE genes: 97\n",
      "\n",
      "get_de_genes: L5_PT_GLU found DE genes: 86\n",
      "\n",
      "get_de_genes: L56_NP_GLU found DE genes: 171\n",
      "\n",
      "get_de_genes: L6_IT_GLU found DE genes: 52\n",
      "\n",
      "get_de_genes: L6_N_GLU found DE genes: 90\n",
      "\n",
      "get_de_genes: MGL found DE genes: 289\n",
      "\n",
      "get_de_genes: OL found DE genes: 329\n",
      "\n",
      "get_de_genes: OPC found DE genes: 232\n",
      "\n",
      "get_de_genes: TE_N_GABA_LAMP5 found DE genes: 131\n",
      "\n",
      "get_de_genes: TE_N_GABA_PVALB found DE genes: 135\n",
      "\n",
      "get_de_genes: TE_N_GABA_RELN found DE genes: 110\n",
      "\n",
      "get_de_genes: TE_N_GABA_SNCG found DE genes: 166\n",
      "\n",
      "get_de_genes: TE_N_GABA_SST found DE genes: 102\n",
      "\n",
      "get_de_genes: TE_N_GABA_VIP found DE genes: 102\n",
      "\n",
      "get_de_genes: TE_N_GLU found DE genes: 126\n",
      "\n",
      "get_de_genes: VLMC found DE genes: 183\n",
      "\n",
      "get_de_genes: total DE genes: 2206\n",
      "\n",
      "create.RCTD: getting platform effect normalization differentially expressed genes: \n",
      "\n",
      "get_de_genes: ASC found DE genes: 463\n",
      "\n",
      "get_de_genes: Car3_N_GLU found DE genes: 345\n",
      "\n",
      "get_de_genes: CNU_N_GABA found DE genes: 417\n",
      "\n",
      "get_de_genes: EDC found DE genes: 710\n",
      "\n",
      "get_de_genes: L23_IT_GLU found DE genes: 287\n",
      "\n",
      "get_de_genes: L45_IT_GLU found DE genes: 248\n",
      "\n",
      "get_de_genes: L5_IT_GLU found DE genes: 327\n",
      "\n",
      "get_de_genes: L5_PT_GLU found DE genes: 282\n",
      "\n",
      "get_de_genes: L56_NP_GLU found DE genes: 427\n",
      "\n",
      "get_de_genes: L6_IT_GLU found DE genes: 221\n",
      "\n",
      "get_de_genes: L6_N_GLU found DE genes: 268\n",
      "\n",
      "get_de_genes: MGL found DE genes: 621\n",
      "\n",
      "get_de_genes: OL found DE genes: 512\n",
      "\n",
      "get_de_genes: OPC found DE genes: 528\n",
      "\n",
      "get_de_genes: TE_N_GABA_LAMP5 found DE genes: 361\n",
      "\n",
      "get_de_genes: TE_N_GABA_PVALB found DE genes: 386\n",
      "\n",
      "get_de_genes: TE_N_GABA_RELN found DE genes: 360\n",
      "\n",
      "get_de_genes: TE_N_GABA_SNCG found DE genes: 429\n",
      "\n",
      "get_de_genes: TE_N_GABA_SST found DE genes: 238\n",
      "\n",
      "get_de_genes: TE_N_GABA_VIP found DE genes: 251\n",
      "\n",
      "get_de_genes: TE_N_GLU found DE genes: 295\n",
      "\n",
      "get_de_genes: VLMC found DE genes: 455\n",
      "\n",
      "get_de_genes: total DE genes: 3901\n",
      "\n",
      "fitBulk: decomposing bulk\n",
      "\n",
      "chooseSigma: using initial Q_mat with sigma =  1\n",
      "\n",
      "Likelihood value: 400971.410569081\n",
      "\n",
      "Sigma value:  1.16\n",
      "\n",
      "Likelihood value: 396271.781574698\n",
      "\n",
      "Sigma value:  1.32\n",
      "\n",
      "Likelihood value: 392893.571997926\n",
      "\n",
      "Sigma value:  1.48\n",
      "\n",
      "Likelihood value: 390706.595010613\n",
      "\n",
      "Sigma value:  1.64\n",
      "\n",
      "Likelihood value: 389554.517435731\n",
      "\n",
      "Sigma value:  1.8\n",
      "\n",
      "Likelihood value: 389276.030197495\n",
      "\n",
      "Sigma value:  1.8\n",
      "\n"
     ]
    },
    {
     "name": "stdout",
     "output_type": "stream",
     "text": [
      "[1] \"gather_results: finished 1000\"\n",
      "[1] \"gather_results: finished 2000\"\n",
      "[1] \"gather_results: finished 3000\"\n",
      "[1] \"gather_results: finished 4000\"\n",
      "[1] \"gather_results: finished 5000\"\n",
      "[1] \"gather_results: finished 6000\"\n"
     ]
    }
   ],
   "source": [
    "result_RCTD_ssdna=makeRCTD(sc_obj,st_obj_ssdna@assays$RNA@counts)\n",
    "saveRDS(result_RCTD_ssdna, \"res_rctd_ssdna_spec.rds\")"
   ]
  },
  {
   "cell_type": "code",
   "execution_count": 17,
   "id": "ce15c4c2-b906-4edc-9906-09dcbcce28bb",
   "metadata": {
    "tags": [],
    "vscode": {
     "languageId": "r"
    }
   },
   "outputs": [
    {
     "name": "stderr",
     "output_type": "stream",
     "text": [
      "Begin: process_cell_type_info\n",
      "\n",
      "process_cell_type_info: number of cells in reference: 15842\n",
      "\n",
      "process_cell_type_info: number of genes in reference: 52198\n",
      "\n"
     ]
    },
    {
     "name": "stdout",
     "output_type": "stream",
     "text": [
      "\n",
      "            ASC      Car3_N_GLU      CNU_N_GABA             EDC      L23_IT_GLU \n",
      "            924             161             282              83            3082 \n",
      "     L45_IT_GLU       L5_IT_GLU       L5_PT_GLU      L56_NP_GLU       L6_IT_GLU \n",
      "           1871             567             905             190            2169 \n",
      "       L6_N_GLU             MGL              OL             OPC TE_N_GABA_LAMP5 \n",
      "           1892              94             393              46             222 \n",
      "TE_N_GABA_PVALB  TE_N_GABA_RELN  TE_N_GABA_SNCG   TE_N_GABA_SST   TE_N_GABA_VIP \n",
      "            822              49              46             656             163 \n",
      "       TE_N_GLU            VLMC \n",
      "           1027             198 \n"
     ]
    },
    {
     "name": "stderr",
     "output_type": "stream",
     "text": [
      "Warning message in asMethod(object):\n",
      "“sparse->dense coercion: allocating vector of size 1.2 GiB”\n",
      "End: process_cell_type_info\n",
      "\n",
      "create.RCTD: getting regression differentially expressed genes: \n",
      "\n",
      "get_de_genes: ASC found DE genes: 258\n",
      "\n",
      "get_de_genes: Car3_N_GLU found DE genes: 150\n",
      "\n",
      "get_de_genes: CNU_N_GABA found DE genes: 223\n",
      "\n",
      "get_de_genes: EDC found DE genes: 391\n",
      "\n",
      "get_de_genes: L23_IT_GLU found DE genes: 92\n",
      "\n",
      "get_de_genes: L45_IT_GLU found DE genes: 68\n",
      "\n",
      "get_de_genes: L5_IT_GLU found DE genes: 97\n",
      "\n",
      "get_de_genes: L5_PT_GLU found DE genes: 86\n",
      "\n",
      "get_de_genes: L56_NP_GLU found DE genes: 171\n",
      "\n",
      "get_de_genes: L6_IT_GLU found DE genes: 52\n",
      "\n",
      "get_de_genes: L6_N_GLU found DE genes: 90\n",
      "\n",
      "get_de_genes: MGL found DE genes: 289\n",
      "\n",
      "get_de_genes: OL found DE genes: 329\n",
      "\n",
      "get_de_genes: OPC found DE genes: 232\n",
      "\n",
      "get_de_genes: TE_N_GABA_LAMP5 found DE genes: 131\n",
      "\n",
      "get_de_genes: TE_N_GABA_PVALB found DE genes: 135\n",
      "\n",
      "get_de_genes: TE_N_GABA_RELN found DE genes: 110\n",
      "\n",
      "get_de_genes: TE_N_GABA_SNCG found DE genes: 166\n",
      "\n",
      "get_de_genes: TE_N_GABA_SST found DE genes: 102\n",
      "\n",
      "get_de_genes: TE_N_GABA_VIP found DE genes: 102\n",
      "\n",
      "get_de_genes: TE_N_GLU found DE genes: 126\n",
      "\n",
      "get_de_genes: VLMC found DE genes: 183\n",
      "\n",
      "get_de_genes: total DE genes: 2206\n",
      "\n",
      "create.RCTD: getting platform effect normalization differentially expressed genes: \n",
      "\n",
      "get_de_genes: ASC found DE genes: 463\n",
      "\n",
      "get_de_genes: Car3_N_GLU found DE genes: 345\n",
      "\n",
      "get_de_genes: CNU_N_GABA found DE genes: 418\n",
      "\n",
      "get_de_genes: EDC found DE genes: 710\n",
      "\n",
      "get_de_genes: L23_IT_GLU found DE genes: 287\n",
      "\n",
      "get_de_genes: L45_IT_GLU found DE genes: 248\n",
      "\n",
      "get_de_genes: L5_IT_GLU found DE genes: 327\n",
      "\n",
      "get_de_genes: L5_PT_GLU found DE genes: 282\n",
      "\n",
      "get_de_genes: L56_NP_GLU found DE genes: 427\n",
      "\n",
      "get_de_genes: L6_IT_GLU found DE genes: 221\n",
      "\n",
      "get_de_genes: L6_N_GLU found DE genes: 268\n",
      "\n",
      "get_de_genes: MGL found DE genes: 621\n",
      "\n",
      "get_de_genes: OL found DE genes: 512\n",
      "\n",
      "get_de_genes: OPC found DE genes: 528\n",
      "\n",
      "get_de_genes: TE_N_GABA_LAMP5 found DE genes: 361\n",
      "\n",
      "get_de_genes: TE_N_GABA_PVALB found DE genes: 386\n",
      "\n",
      "get_de_genes: TE_N_GABA_RELN found DE genes: 360\n",
      "\n",
      "get_de_genes: TE_N_GABA_SNCG found DE genes: 429\n",
      "\n",
      "get_de_genes: TE_N_GABA_SST found DE genes: 238\n",
      "\n",
      "get_de_genes: TE_N_GABA_VIP found DE genes: 251\n",
      "\n",
      "get_de_genes: TE_N_GLU found DE genes: 295\n",
      "\n",
      "get_de_genes: VLMC found DE genes: 455\n",
      "\n",
      "get_de_genes: total DE genes: 3902\n",
      "\n",
      "fitBulk: decomposing bulk\n",
      "\n",
      "chooseSigma: using initial Q_mat with sigma =  1\n",
      "\n",
      "Likelihood value: 602756.188776042\n",
      "\n",
      "Sigma value:  1.16\n",
      "\n",
      "Likelihood value: 594726.59477936\n",
      "\n",
      "Sigma value:  1.32\n",
      "\n",
      "Likelihood value: 589161.097012231\n",
      "\n",
      "Sigma value:  1.48\n",
      "\n",
      "Likelihood value: 585723.63477506\n",
      "\n",
      "Sigma value:  1.64\n",
      "\n",
      "Likelihood value: 584061.221381606\n",
      "\n",
      "Sigma value:  1.72\n",
      "\n",
      "Likelihood value: 583792.0098039\n",
      "\n",
      "Sigma value:  1.72\n",
      "\n"
     ]
    },
    {
     "name": "stdout",
     "output_type": "stream",
     "text": [
      "[1] \"gather_results: finished 1000\"\n",
      "[1] \"gather_results: finished 2000\"\n",
      "[1] \"gather_results: finished 3000\"\n",
      "[1] \"gather_results: finished 4000\"\n",
      "[1] \"gather_results: finished 5000\"\n"
     ]
    }
   ],
   "source": [
    "result_RCTD_common=makeRCTD(sc_obj,st_obj_common@assays$RNA@counts)\n",
    "saveRDS(result_RCTD_common, \"res_rctd_common.rds\")"
   ]
  }
 ],
 "metadata": {
  "kernelspec": {
   "display_name": "R 4.1_general",
   "language": "R",
   "name": "r41_general"
  },
  "language_info": {
   "codemirror_mode": "r",
   "file_extension": ".r",
   "mimetype": "text/x-r-source",
   "name": "R",
   "pygments_lexer": "r",
   "version": "4.1.3"
  }
 },
 "nbformat": 4,
 "nbformat_minor": 5
}
