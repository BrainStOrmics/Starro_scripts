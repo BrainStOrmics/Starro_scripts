{
 "cells": [
  {
   "attachments": {},
   "cell_type": "markdown",
   "id": "813b9e24",
   "metadata": {},
   "source": [
    "# COMMOT test"
   ]
  },
  {
   "cell_type": "code",
   "execution_count": 15,
   "id": "469507f4",
   "metadata": {},
   "outputs": [],
   "source": [
    "import anndata as ad\n",
    "import anndata\n",
    "import os,re,sys\n",
    "import pandas as pd\n",
    "import numpy as np\n",
    "import scanpy as sc\n",
    "import commot as ct\n",
    "import matplotlib.pyplot as plt\n",
    "from plotnine import *"
   ]
  },
  {
   "cell_type": "code",
   "execution_count": 16,
   "id": "29ca6e39",
   "metadata": {},
   "outputs": [],
   "source": [
    "#adata_path = '/DATA/User/panhailin/project/mouse_embryo/new/E16.5_E1S3/02.limb1/limb1_cluster_deg_anno.h5ad'\n",
    "adata_path = \"commot_adata_limb1_vf.h5ad\"\n",
    "adata = ad.read(adata_path)"
   ]
  },
  {
   "cell_type": "code",
   "execution_count": 3,
   "id": "32427b5b",
   "metadata": {},
   "outputs": [],
   "source": [
    "adata.X = adata.layers['raw'].copy()"
   ]
  },
  {
   "cell_type": "code",
   "execution_count": 4,
   "id": "73abd4a1",
   "metadata": {},
   "outputs": [
    {
     "name": "stdout",
     "output_type": "stream",
     "text": [
      "WARNING: adata.X seems to be already log-transformed.\n"
     ]
    }
   ],
   "source": [
    "sc.pp.normalize_total(adata, inplace=True)\n",
    "sc.pp.log1p(adata)"
   ]
  },
  {
   "cell_type": "code",
   "execution_count": 72,
   "id": "bb2a2673",
   "metadata": {},
   "outputs": [],
   "source": [
    "df_cellchat = ct.pp.ligand_receptor_database(species='mouse', signaling_type='Secreted Signaling', database='CellChat')\n",
    "#df_cellchat.to_csv(\"cellchat_csv.csv\")\n",
    "\n",
    "# These are immune related pathways, but the expression is too low in limb data\n",
    "#df_cellchat = df_cellchat[df_cellchat['2'].isin(['COMPLEMENT','CCL','IL2','IL4','IL6','IL12','IL10','IL1','IL17','IL16','ANNEXIN', 'SAA'])]\n",
    "#df_cellchat = df_cellchat[df_cellchat['2'].isin(['CCL'])]"
   ]
  },
  {
   "cell_type": "code",
   "execution_count": 73,
   "id": "a5e3de29-3c48-4ab2-8ae0-7dc7b1dd7ef0",
   "metadata": {},
   "outputs": [
    {
     "data": {
      "text/html": [
       "<div>\n",
       "<style scoped>\n",
       "    .dataframe tbody tr th:only-of-type {\n",
       "        vertical-align: middle;\n",
       "    }\n",
       "\n",
       "    .dataframe tbody tr th {\n",
       "        vertical-align: top;\n",
       "    }\n",
       "\n",
       "    .dataframe thead th {\n",
       "        text-align: right;\n",
       "    }\n",
       "</style>\n",
       "<table border=\"1\" class=\"dataframe\">\n",
       "  <thead>\n",
       "    <tr style=\"text-align: right;\">\n",
       "      <th></th>\n",
       "      <th>0</th>\n",
       "      <th>1</th>\n",
       "      <th>2</th>\n",
       "      <th>3</th>\n",
       "    </tr>\n",
       "  </thead>\n",
       "  <tbody>\n",
       "    <tr>\n",
       "      <th>0</th>\n",
       "      <td>Tgfb1</td>\n",
       "      <td>Tgfbr1_Tgfbr2</td>\n",
       "      <td>TGFb</td>\n",
       "      <td>Secreted Signaling</td>\n",
       "    </tr>\n",
       "    <tr>\n",
       "      <th>1</th>\n",
       "      <td>Tgfb2</td>\n",
       "      <td>Tgfbr1_Tgfbr2</td>\n",
       "      <td>TGFb</td>\n",
       "      <td>Secreted Signaling</td>\n",
       "    </tr>\n",
       "    <tr>\n",
       "      <th>2</th>\n",
       "      <td>Tgfb3</td>\n",
       "      <td>Tgfbr1_Tgfbr2</td>\n",
       "      <td>TGFb</td>\n",
       "      <td>Secreted Signaling</td>\n",
       "    </tr>\n",
       "    <tr>\n",
       "      <th>3</th>\n",
       "      <td>Tgfb1</td>\n",
       "      <td>Acvr1b_Tgfbr2</td>\n",
       "      <td>TGFb</td>\n",
       "      <td>Secreted Signaling</td>\n",
       "    </tr>\n",
       "    <tr>\n",
       "      <th>4</th>\n",
       "      <td>Tgfb1</td>\n",
       "      <td>Acvr1c_Tgfbr2</td>\n",
       "      <td>TGFb</td>\n",
       "      <td>Secreted Signaling</td>\n",
       "    </tr>\n",
       "    <tr>\n",
       "      <th>...</th>\n",
       "      <td>...</td>\n",
       "      <td>...</td>\n",
       "      <td>...</td>\n",
       "      <td>...</td>\n",
       "    </tr>\n",
       "    <tr>\n",
       "      <th>1204</th>\n",
       "      <td>Uts2b</td>\n",
       "      <td>Uts2r</td>\n",
       "      <td>UROTENSIN</td>\n",
       "      <td>Secreted Signaling</td>\n",
       "    </tr>\n",
       "    <tr>\n",
       "      <th>1205</th>\n",
       "      <td>Uts2b</td>\n",
       "      <td>Sstr5</td>\n",
       "      <td>UROTENSIN</td>\n",
       "      <td>Secreted Signaling</td>\n",
       "    </tr>\n",
       "    <tr>\n",
       "      <th>1206</th>\n",
       "      <td>Bag6</td>\n",
       "      <td>Ncr3-ps</td>\n",
       "      <td>BAG</td>\n",
       "      <td>Secreted Signaling</td>\n",
       "    </tr>\n",
       "    <tr>\n",
       "      <th>1207</th>\n",
       "      <td>Lgals9</td>\n",
       "      <td>Havcr2</td>\n",
       "      <td>GALECTIN</td>\n",
       "      <td>Secreted Signaling</td>\n",
       "    </tr>\n",
       "    <tr>\n",
       "      <th>1208</th>\n",
       "      <td>Lgals9</td>\n",
       "      <td>Cd44</td>\n",
       "      <td>GALECTIN</td>\n",
       "      <td>Secreted Signaling</td>\n",
       "    </tr>\n",
       "  </tbody>\n",
       "</table>\n",
       "<p>1209 rows × 4 columns</p>\n",
       "</div>"
      ],
      "text/plain": [
       "           0              1          2                   3\n",
       "0      Tgfb1  Tgfbr1_Tgfbr2       TGFb  Secreted Signaling\n",
       "1      Tgfb2  Tgfbr1_Tgfbr2       TGFb  Secreted Signaling\n",
       "2      Tgfb3  Tgfbr1_Tgfbr2       TGFb  Secreted Signaling\n",
       "3      Tgfb1  Acvr1b_Tgfbr2       TGFb  Secreted Signaling\n",
       "4      Tgfb1  Acvr1c_Tgfbr2       TGFb  Secreted Signaling\n",
       "...      ...            ...        ...                 ...\n",
       "1204   Uts2b          Uts2r  UROTENSIN  Secreted Signaling\n",
       "1205   Uts2b          Sstr5  UROTENSIN  Secreted Signaling\n",
       "1206    Bag6        Ncr3-ps        BAG  Secreted Signaling\n",
       "1207  Lgals9         Havcr2   GALECTIN  Secreted Signaling\n",
       "1208  Lgals9           Cd44   GALECTIN  Secreted Signaling\n",
       "\n",
       "[1209 rows x 4 columns]"
      ]
     },
     "execution_count": 73,
     "metadata": {},
     "output_type": "execute_result"
    }
   ],
   "source": [
    "df_cellchat"
   ]
  },
  {
   "cell_type": "code",
   "execution_count": null,
   "id": "63ff5cce-1e5c-4e46-b671-d1ad1695fc1d",
   "metadata": {},
   "outputs": [
    {
     "data": {
      "text/html": [
       "<div>\n",
       "<style scoped>\n",
       "    .dataframe tbody tr th:only-of-type {\n",
       "        vertical-align: middle;\n",
       "    }\n",
       "\n",
       "    .dataframe tbody tr th {\n",
       "        vertical-align: top;\n",
       "    }\n",
       "\n",
       "    .dataframe thead th {\n",
       "        text-align: right;\n",
       "    }\n",
       "</style>\n",
       "<table border=\"1\" class=\"dataframe\">\n",
       "  <thead>\n",
       "    <tr style=\"text-align: right;\">\n",
       "      <th></th>\n",
       "      <th>0</th>\n",
       "      <th>1</th>\n",
       "      <th>2</th>\n",
       "      <th>3</th>\n",
       "    </tr>\n",
       "  </thead>\n",
       "  <tbody>\n",
       "    <tr>\n",
       "      <th>0</th>\n",
       "      <td>Bmp3</td>\n",
       "      <td>Bmpr1a</td>\n",
       "      <td>BMP</td>\n",
       "      <td>Secreted Signaling</td>\n",
       "    </tr>\n",
       "    <tr>\n",
       "      <th>1</th>\n",
       "      <td>Bmp3</td>\n",
       "      <td>Bmpr1b</td>\n",
       "      <td>BMP</td>\n",
       "      <td>Secreted Signaling</td>\n",
       "    </tr>\n",
       "    <tr>\n",
       "      <th>2</th>\n",
       "      <td>Bmp3</td>\n",
       "      <td>Bmpr2</td>\n",
       "      <td>BMP</td>\n",
       "      <td>Secreted Signaling</td>\n",
       "    </tr>\n",
       "  </tbody>\n",
       "</table>\n",
       "</div>"
      ],
      "text/plain": [
       "      0       1    2                   3\n",
       "0  Bmp3  Bmpr1a  BMP  Secreted Signaling\n",
       "1  Bmp3  Bmpr1b  BMP  Secreted Signaling\n",
       "2  Bmp3   Bmpr2  BMP  Secreted Signaling"
      ]
     },
     "execution_count": 110,
     "metadata": {},
     "output_type": "execute_result"
    }
   ],
   "source": [
    "select_df = pd.DataFrame({'0':['Bmp3','Bmp3','Bmp3'],'1':['Bmpr1a','Bmpr1b','Bmpr2'],'2':['BMP','BMP','BMP'],'3':['Secreted Signaling','Secreted Signaling','Secreted Signaling']})\n",
    "select_df"
   ]
  },
  {
   "cell_type": "code",
   "execution_count": 214,
   "id": "494ead87-3386-4fce-bd6e-b2947a49e149",
   "metadata": {},
   "outputs": [],
   "source": [
    "adata_subset = adata[adata.obs['group_anno'].isin(['2 Immature_chondrocyte', '3 Mesenchymal_cell'])].copy()"
   ]
  },
  {
   "cell_type": "code",
   "execution_count": 215,
   "id": "e6b39cbe-0185-4fb5-a012-034323ae3f38",
   "metadata": {},
   "outputs": [],
   "source": [
    "ct.tl.spatial_communication(\n",
    "    adata_subset,\n",
    "    database_name='user_database', \n",
    "    df_ligrec=select_df, \n",
    "    dis_thr=2000, \n",
    "    heteromeric=True, pathway_sum=True\n",
    ")"
   ]
  },
  {
   "cell_type": "code",
   "execution_count": 216,
   "id": "0c61acc7-2f99-4e99-8d70-3515f8de6bf8",
   "metadata": {},
   "outputs": [
    {
     "data": {
      "text/plain": [
       "AnnData object with n_obs × n_vars = 1700 × 11794\n",
       "    obs: 'area', 'nGenes', 'nCounts', 'pMito', 'pass_basic_filter', 'Size_Factor', 'initial_cell_size', 'louvain', 'group_anno', 'highlight'\n",
       "    uns: '__type', 'commot-user_database-info', 'dendrogram_louvain', 'group_anno_colors', 'log1p', 'louvain', 'louvain_colors', 'neighbors', 'pp', 'spatial'\n",
       "    obsm: 'X_pca', 'X_spatial', 'X_umap', 'bbox', 'commot-user_database-sum-receiver', 'commot-user_database-sum-sender', 'commot_receiver_vf-user_database-Angptl4-Cdh11', 'commot_receiver_vf-user_database-Angptl4-Sdc1', 'commot_receiver_vf-user_database-Angptl4-Sdc3', 'commot_receiver_vf-user_database-Mdk-Itga6_Itgb1', 'commot_receiver_vf-user_database-Postn-Itgav_Itgb5', 'commot_receiver_vf-user_database-Pros1-Axl', 'commot_sender_vf-user_database-Angptl4-Cdh11', 'commot_sender_vf-user_database-Angptl4-Sdc1', 'commot_sender_vf-user_database-Angptl4-Sdc3', 'commot_sender_vf-user_database-Mdk-Itga6_Itgb1', 'commot_sender_vf-user_database-Postn-Itgav_Itgb5', 'commot_sender_vf-user_database-Pros1-Axl', 'contour', 'pearson_residuals', 'spatial', 'commot_sender_vf-user_database-Bmp3-Bmpr1a', 'commot_receiver_vf-user_database-Bmp3-Bmpr1a', 'commot_sender_vf-user_database-Bmp3-Bmpr1b', 'commot_receiver_vf-user_database-Bmp3-Bmpr1b', 'commot_sender_vf-user_database-Bmp3-Bmpr2', 'commot_receiver_vf-user_database-Bmp3-Bmpr2', 'commot_sender_vf-user_database-BMP', 'commot_receiver_vf-user_database-BMP'\n",
       "    layers: 'norm_log1p', 'raw', 'spliced', 'unspliced'\n",
       "    obsp: 'commot-user_database-ANGPTL', 'commot-user_database-Angptl4-Cdh11', 'commot-user_database-Angptl4-Sdc1', 'commot-user_database-Angptl4-Sdc3', 'commot-user_database-MK', 'commot-user_database-Mdk-Itga6_Itgb1', 'commot-user_database-PERIOSTIN', 'commot-user_database-PROS', 'commot-user_database-Postn-Itgav_Itgb5', 'commot-user_database-Pros1-Axl', 'commot-user_database-total-total', 'connectivities', 'distances', 'commot-user_database-Bmp3-Bmpr1b', 'commot-user_database-Bmp3-Bmpr2', 'commot-user_database-Bmp3-Bmpr1a', 'commot-user_database-BMP'"
      ]
     },
     "execution_count": 216,
     "metadata": {},
     "output_type": "execute_result"
    }
   ],
   "source": [
    "for i in range(len(select_df)):\n",
    "    ct.tl.communication_direction(\n",
    "        adata_subset, \n",
    "        database_name='user_database',\n",
    "        lr_pair=(select_df['0'][i],select_df['1'][i]),\n",
    "        k=10,\n",
    "    )\n",
    "ct.tl.communication_direction(\n",
    "    adata_subset, \n",
    "    database_name='user_database',\n",
    "    pathway_name=\"BMP\",\n",
    "    k=10,\n",
    ")\n",
    "adata_subset"
   ]
  },
  {
   "cell_type": "code",
   "execution_count": 217,
   "id": "c9d1beed-7a3f-4c94-b50f-7203d5c7b1fe",
   "metadata": {},
   "outputs": [],
   "source": [
    "del adata_subset.uns['group_anno_colors']\n",
    "del adata_subset.uns['louvain_colors']\n",
    "adata_subset.write(\"tmptmp.h5ad\")"
   ]
  },
  {
   "cell_type": "code",
   "execution_count": null,
   "id": "e5d6ff04",
   "metadata": {},
   "outputs": [
    {
     "name": "stdout",
     "output_type": "stream",
     "text": [
      "|-----> setting visualization default mode in dynamo. Your customized matplotlib settings might be overritten.\n"
     ]
    },
    {
     "name": "stderr",
     "output_type": "stream",
     "text": [
      "/home/jingzh/.conda/envs/spateo_dev/lib/python3.8/site-packages/nxviz/__init__.py:18: UserWarning: \n",
      "nxviz has a new API! Version 0.7.3 onwards, the old class-based API is being\n",
      "deprecated in favour of a new API focused on advancing a grammar of network\n",
      "graphics. If your plotting code depends on the old API, please consider\n",
      "pinning nxviz at version 0.7.3, as the new API will break your old code.\n",
      "\n",
      "To check out the new API, please head over to the docs at\n",
      "https://ericmjl.github.io/nxviz/ to learn more. We hope you enjoy using it!\n",
      "\n",
      "(This deprecation message will go away in version 1.0.)\n",
      "\n",
      "  warnings.warn(\n"
     ]
    }
   ],
   "source": [
    "import anndata as ad\n",
    "import anndata\n",
    "import os,re,sys\n",
    "import pandas as pd\n",
    "import numpy as np\n",
    "import scanpy as sc\n",
    "\n",
    "import dynamo as dyn\n",
    "\n",
    "import matplotlib.pyplot as plt\n",
    "import seaborn as sns\n",
    "\n",
    "plt.style.use('default')\n",
    "plt.rcParams['image.interpolation'] = 'none'\n",
    "%config InlineBackend.figure_format='retina'\n",
    "\n",
    "\n",
    "import matplotlib as mpl\n",
    "mpl.rcParams['pdf.fonttype'] = 42"
   ]
  },
  {
   "cell_type": "code",
   "execution_count": null,
   "id": "7ca69d93",
   "metadata": {},
   "outputs": [],
   "source": [
    "adata_subset.obsm['velocity_spatial'] = adata_subset.obsm['commot_sender_vf-user_database-BMP'].copy()\n",
    "\n",
    "dyn.pl.streamline_plot(adata_subset, color=\"group_anno\",\n",
    "                       highlights=\"2 Immature_chondrocyte\",\n",
    "                       basis=\"spatial\", pointsize=0.1,show_legend=\"upper left\",s_kwargs_dict={\"alpha\":0.5}, #color_key=[(92/255,58/255,124/255),(135/255,108/255,217/255)],\n",
    "                      save_show_or_return='save',\n",
    "                     save_kwargs={\"ext\":'png',\"dpi\":1000,\"prefix\":\"limb_subset23_Bmp3_sender\"},\n",
    "                      )"
   ]
  },
  {
   "cell_type": "code",
   "execution_count": null,
   "id": "cd2089e6",
   "metadata": {},
   "outputs": [],
   "source": [
    "adata_subset.obsm['velocity_spatial'] = adata_subset.obsm['commot_receiver_vf-user_database-BMP'].copy()\n",
    "dyn.pl.streamline_plot(adata_subset, color=\"group_anno\",\n",
    "                       highlights=\"2 Immature_chondrocyte\",\n",
    "                       basis=\"spatial\", pointsize=0.1,show_legend=\"upper left\",s_kwargs_dict={\"alpha\":0.5},\n",
    "                        save_show_or_return='save',\n",
    "                     save_kwargs={\"ext\":'png',\"dpi\":1000,\"prefix\":\"limb_subset23_Bmpr1a_Bmpr1b_Bmpr2_receiver\"},\n",
    "                      )"
   ]
  }
 ],
 "metadata": {
  "kernelspec": {
   "display_name": "python3.8_commot_env",
   "language": "python",
   "name": "python3.8_commot_env"
  },
  "language_info": {
   "codemirror_mode": {
    "name": "ipython",
    "version": 3
   },
   "file_extension": ".py",
   "mimetype": "text/x-python",
   "name": "python",
   "nbconvert_exporter": "python",
   "pygments_lexer": "ipython3",
   "version": "3.8.16"
  }
 },
 "nbformat": 4,
 "nbformat_minor": 5
}
